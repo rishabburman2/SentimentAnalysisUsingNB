{
  "nbformat": 4,
  "nbformat_minor": 0,
  "metadata": {
    "colab": {
      "name": "Sentiment_Analysis_using_NB",
      "provenance": [],
      "collapsed_sections": []
    },
    "kernelspec": {
      "name": "python3",
      "display_name": "Python 3"
    },
    "language_info": {
      "name": "python"
    }
  },
  "cells": [
    {
      "cell_type": "code",
      "execution_count": 1,
      "metadata": {
        "colab": {
          "base_uri": "https://localhost:8080/"
        },
        "id": "8cfjpeBrQ7Pz",
        "outputId": "facbd0ee-2ad0-4c6f-9823-c9662505da76"
      },
      "outputs": [
        {
          "output_type": "stream",
          "name": "stdout",
          "text": [
            "Mounted at /content/gdrive\n"
          ]
        }
      ],
      "source": [
        "# Mounting colab at drive\n",
        "from google.colab import drive\n",
        "drive.mount('/content/gdrive')"
      ]
    },
    {
      "cell_type": "code",
      "source": [
        "!unzip 'gdrive/MyDrive/Twitter Sentiment Analysis/archive.zip'"
      ],
      "metadata": {
        "colab": {
          "base_uri": "https://localhost:8080/"
        },
        "id": "5IMXgSkeVOtu",
        "outputId": "befae4af-3357-47a0-974f-9fe0d2081a5b"
      },
      "execution_count": 2,
      "outputs": [
        {
          "output_type": "stream",
          "name": "stdout",
          "text": [
            "Archive:  gdrive/MyDrive/Twitter Sentiment Analysis/archive.zip\n",
            "  inflating: sentiment_tweets3.csv   \n"
          ]
        }
      ]
    },
    {
      "cell_type": "code",
      "source": [
        "# Importing Libraries\n",
        "import numpy as np\n",
        "import pandas as pd"
      ],
      "metadata": {
        "id": "eFH7t8ozWKXv"
      },
      "execution_count": 3,
      "outputs": []
    },
    {
      "cell_type": "code",
      "source": [
        "# Importing dataset\n",
        "df = pd.read_csv('sentiment_tweets3.csv')"
      ],
      "metadata": {
        "id": "WlRPKpicbyIo"
      },
      "execution_count": 4,
      "outputs": []
    },
    {
      "cell_type": "code",
      "source": [
        "df.head(15)"
      ],
      "metadata": {
        "colab": {
          "base_uri": "https://localhost:8080/",
          "height": 520
        },
        "id": "4wR92ky5cD_h",
        "outputId": "559a5f28-2676-46d4-ec95-28852b1293da"
      },
      "execution_count": 5,
      "outputs": [
        {
          "output_type": "execute_result",
          "data": {
            "text/plain": [
              "    Index                                 message to examine  \\\n",
              "0     106  just had a real good moment. i missssssssss hi...   \n",
              "1     217         is reading manga  http://plurk.com/p/mzp1e   \n",
              "2     220  @comeagainjen http://twitpic.com/2y2lx - http:...   \n",
              "3     288  @lapcat Need to send 'em to my accountant tomo...   \n",
              "4     540      ADD ME ON MYSPACE!!!  myspace.com/LookThunder   \n",
              "5     624              so sleepy. good times tonight though    \n",
              "6     701  @SilkCharm re: #nbn as someone already said, d...   \n",
              "7     808                 23 or 24ï¿½C possible today. Nice    \n",
              "8    1193        nite twitterville  workout in the am  -ciao   \n",
              "9    1324    @daNanner Night, darlin'!  Sweet dreams to you    \n",
              "10   1332                           Good morning everybody!    \n",
              "11   1368  Finally! I just created my WordPress Blog. The...   \n",
              "12   1578  kisha they cnt get over u til they get out frm...   \n",
              "13   1595  @nicolerichie Yes i remember that band, It was...   \n",
              "14   1861             I really love reflections and shadows    \n",
              "\n",
              "    label (depression result)  \n",
              "0                           0  \n",
              "1                           0  \n",
              "2                           0  \n",
              "3                           0  \n",
              "4                           0  \n",
              "5                           0  \n",
              "6                           0  \n",
              "7                           0  \n",
              "8                           0  \n",
              "9                           0  \n",
              "10                          0  \n",
              "11                          0  \n",
              "12                          0  \n",
              "13                          0  \n",
              "14                          0  "
            ],
            "text/html": [
              "\n",
              "  <div id=\"df-82b1fa3a-4231-445d-8435-a0edd2f4bcb6\">\n",
              "    <div class=\"colab-df-container\">\n",
              "      <div>\n",
              "<style scoped>\n",
              "    .dataframe tbody tr th:only-of-type {\n",
              "        vertical-align: middle;\n",
              "    }\n",
              "\n",
              "    .dataframe tbody tr th {\n",
              "        vertical-align: top;\n",
              "    }\n",
              "\n",
              "    .dataframe thead th {\n",
              "        text-align: right;\n",
              "    }\n",
              "</style>\n",
              "<table border=\"1\" class=\"dataframe\">\n",
              "  <thead>\n",
              "    <tr style=\"text-align: right;\">\n",
              "      <th></th>\n",
              "      <th>Index</th>\n",
              "      <th>message to examine</th>\n",
              "      <th>label (depression result)</th>\n",
              "    </tr>\n",
              "  </thead>\n",
              "  <tbody>\n",
              "    <tr>\n",
              "      <th>0</th>\n",
              "      <td>106</td>\n",
              "      <td>just had a real good moment. i missssssssss hi...</td>\n",
              "      <td>0</td>\n",
              "    </tr>\n",
              "    <tr>\n",
              "      <th>1</th>\n",
              "      <td>217</td>\n",
              "      <td>is reading manga  http://plurk.com/p/mzp1e</td>\n",
              "      <td>0</td>\n",
              "    </tr>\n",
              "    <tr>\n",
              "      <th>2</th>\n",
              "      <td>220</td>\n",
              "      <td>@comeagainjen http://twitpic.com/2y2lx - http:...</td>\n",
              "      <td>0</td>\n",
              "    </tr>\n",
              "    <tr>\n",
              "      <th>3</th>\n",
              "      <td>288</td>\n",
              "      <td>@lapcat Need to send 'em to my accountant tomo...</td>\n",
              "      <td>0</td>\n",
              "    </tr>\n",
              "    <tr>\n",
              "      <th>4</th>\n",
              "      <td>540</td>\n",
              "      <td>ADD ME ON MYSPACE!!!  myspace.com/LookThunder</td>\n",
              "      <td>0</td>\n",
              "    </tr>\n",
              "    <tr>\n",
              "      <th>5</th>\n",
              "      <td>624</td>\n",
              "      <td>so sleepy. good times tonight though</td>\n",
              "      <td>0</td>\n",
              "    </tr>\n",
              "    <tr>\n",
              "      <th>6</th>\n",
              "      <td>701</td>\n",
              "      <td>@SilkCharm re: #nbn as someone already said, d...</td>\n",
              "      <td>0</td>\n",
              "    </tr>\n",
              "    <tr>\n",
              "      <th>7</th>\n",
              "      <td>808</td>\n",
              "      <td>23 or 24ï¿½C possible today. Nice</td>\n",
              "      <td>0</td>\n",
              "    </tr>\n",
              "    <tr>\n",
              "      <th>8</th>\n",
              "      <td>1193</td>\n",
              "      <td>nite twitterville  workout in the am  -ciao</td>\n",
              "      <td>0</td>\n",
              "    </tr>\n",
              "    <tr>\n",
              "      <th>9</th>\n",
              "      <td>1324</td>\n",
              "      <td>@daNanner Night, darlin'!  Sweet dreams to you</td>\n",
              "      <td>0</td>\n",
              "    </tr>\n",
              "    <tr>\n",
              "      <th>10</th>\n",
              "      <td>1332</td>\n",
              "      <td>Good morning everybody!</td>\n",
              "      <td>0</td>\n",
              "    </tr>\n",
              "    <tr>\n",
              "      <th>11</th>\n",
              "      <td>1368</td>\n",
              "      <td>Finally! I just created my WordPress Blog. The...</td>\n",
              "      <td>0</td>\n",
              "    </tr>\n",
              "    <tr>\n",
              "      <th>12</th>\n",
              "      <td>1578</td>\n",
              "      <td>kisha they cnt get over u til they get out frm...</td>\n",
              "      <td>0</td>\n",
              "    </tr>\n",
              "    <tr>\n",
              "      <th>13</th>\n",
              "      <td>1595</td>\n",
              "      <td>@nicolerichie Yes i remember that band, It was...</td>\n",
              "      <td>0</td>\n",
              "    </tr>\n",
              "    <tr>\n",
              "      <th>14</th>\n",
              "      <td>1861</td>\n",
              "      <td>I really love reflections and shadows</td>\n",
              "      <td>0</td>\n",
              "    </tr>\n",
              "  </tbody>\n",
              "</table>\n",
              "</div>\n",
              "      <button class=\"colab-df-convert\" onclick=\"convertToInteractive('df-82b1fa3a-4231-445d-8435-a0edd2f4bcb6')\"\n",
              "              title=\"Convert this dataframe to an interactive table.\"\n",
              "              style=\"display:none;\">\n",
              "        \n",
              "  <svg xmlns=\"http://www.w3.org/2000/svg\" height=\"24px\"viewBox=\"0 0 24 24\"\n",
              "       width=\"24px\">\n",
              "    <path d=\"M0 0h24v24H0V0z\" fill=\"none\"/>\n",
              "    <path d=\"M18.56 5.44l.94 2.06.94-2.06 2.06-.94-2.06-.94-.94-2.06-.94 2.06-2.06.94zm-11 1L8.5 8.5l.94-2.06 2.06-.94-2.06-.94L8.5 2.5l-.94 2.06-2.06.94zm10 10l.94 2.06.94-2.06 2.06-.94-2.06-.94-.94-2.06-.94 2.06-2.06.94z\"/><path d=\"M17.41 7.96l-1.37-1.37c-.4-.4-.92-.59-1.43-.59-.52 0-1.04.2-1.43.59L10.3 9.45l-7.72 7.72c-.78.78-.78 2.05 0 2.83L4 21.41c.39.39.9.59 1.41.59.51 0 1.02-.2 1.41-.59l7.78-7.78 2.81-2.81c.8-.78.8-2.07 0-2.86zM5.41 20L4 18.59l7.72-7.72 1.47 1.35L5.41 20z\"/>\n",
              "  </svg>\n",
              "      </button>\n",
              "      \n",
              "  <style>\n",
              "    .colab-df-container {\n",
              "      display:flex;\n",
              "      flex-wrap:wrap;\n",
              "      gap: 12px;\n",
              "    }\n",
              "\n",
              "    .colab-df-convert {\n",
              "      background-color: #E8F0FE;\n",
              "      border: none;\n",
              "      border-radius: 50%;\n",
              "      cursor: pointer;\n",
              "      display: none;\n",
              "      fill: #1967D2;\n",
              "      height: 32px;\n",
              "      padding: 0 0 0 0;\n",
              "      width: 32px;\n",
              "    }\n",
              "\n",
              "    .colab-df-convert:hover {\n",
              "      background-color: #E2EBFA;\n",
              "      box-shadow: 0px 1px 2px rgba(60, 64, 67, 0.3), 0px 1px 3px 1px rgba(60, 64, 67, 0.15);\n",
              "      fill: #174EA6;\n",
              "    }\n",
              "\n",
              "    [theme=dark] .colab-df-convert {\n",
              "      background-color: #3B4455;\n",
              "      fill: #D2E3FC;\n",
              "    }\n",
              "\n",
              "    [theme=dark] .colab-df-convert:hover {\n",
              "      background-color: #434B5C;\n",
              "      box-shadow: 0px 1px 3px 1px rgba(0, 0, 0, 0.15);\n",
              "      filter: drop-shadow(0px 1px 2px rgba(0, 0, 0, 0.3));\n",
              "      fill: #FFFFFF;\n",
              "    }\n",
              "  </style>\n",
              "\n",
              "      <script>\n",
              "        const buttonEl =\n",
              "          document.querySelector('#df-82b1fa3a-4231-445d-8435-a0edd2f4bcb6 button.colab-df-convert');\n",
              "        buttonEl.style.display =\n",
              "          google.colab.kernel.accessAllowed ? 'block' : 'none';\n",
              "\n",
              "        async function convertToInteractive(key) {\n",
              "          const element = document.querySelector('#df-82b1fa3a-4231-445d-8435-a0edd2f4bcb6');\n",
              "          const dataTable =\n",
              "            await google.colab.kernel.invokeFunction('convertToInteractive',\n",
              "                                                     [key], {});\n",
              "          if (!dataTable) return;\n",
              "\n",
              "          const docLinkHtml = 'Like what you see? Visit the ' +\n",
              "            '<a target=\"_blank\" href=https://colab.research.google.com/notebooks/data_table.ipynb>data table notebook</a>'\n",
              "            + ' to learn more about interactive tables.';\n",
              "          element.innerHTML = '';\n",
              "          dataTable['output_type'] = 'display_data';\n",
              "          await google.colab.output.renderOutput(dataTable, element);\n",
              "          const docLink = document.createElement('div');\n",
              "          docLink.innerHTML = docLinkHtml;\n",
              "          element.appendChild(docLink);\n",
              "        }\n",
              "      </script>\n",
              "    </div>\n",
              "  </div>\n",
              "  "
            ]
          },
          "metadata": {},
          "execution_count": 5
        }
      ]
    },
    {
      "cell_type": "code",
      "source": [
        "# Getting shape of dataset: (rows x columns)\n",
        "df.shape"
      ],
      "metadata": {
        "colab": {
          "base_uri": "https://localhost:8080/"
        },
        "id": "eZ-q4WN7cNrd",
        "outputId": "2cfc9cd8-c9d1-433a-d552-535b54d724e7"
      },
      "execution_count": 6,
      "outputs": [
        {
          "output_type": "execute_result",
          "data": {
            "text/plain": [
              "(10314, 3)"
            ]
          },
          "metadata": {},
          "execution_count": 6
        }
      ]
    },
    {
      "cell_type": "code",
      "source": [
        "# Dropping Unwanted columns\n",
        "df = df.drop('Index', axis = 1)"
      ],
      "metadata": {
        "id": "76KrYissc06z"
      },
      "execution_count": 7,
      "outputs": []
    },
    {
      "cell_type": "code",
      "source": [
        "# New shape of dataset\n",
        "df.shape"
      ],
      "metadata": {
        "colab": {
          "base_uri": "https://localhost:8080/"
        },
        "id": "FvfL5pe9dMlQ",
        "outputId": "6a0d5323-8eee-4b0c-a7c9-c9bc49a5d0cd"
      },
      "execution_count": 8,
      "outputs": [
        {
          "output_type": "execute_result",
          "data": {
            "text/plain": [
              "(10314, 2)"
            ]
          },
          "metadata": {},
          "execution_count": 8
        }
      ]
    },
    {
      "cell_type": "code",
      "source": [
        "# Changing column name\n",
        "df.columns = ['Tweets', 'Polarity']\n",
        "df.head(15)"
      ],
      "metadata": {
        "colab": {
          "base_uri": "https://localhost:8080/",
          "height": 520
        },
        "id": "61LfIJjpdRGK",
        "outputId": "9d2668a4-e829-421a-9538-f53628576c6c"
      },
      "execution_count": 9,
      "outputs": [
        {
          "output_type": "execute_result",
          "data": {
            "text/plain": [
              "                                               Tweets  Polarity\n",
              "0   just had a real good moment. i missssssssss hi...         0\n",
              "1          is reading manga  http://plurk.com/p/mzp1e         0\n",
              "2   @comeagainjen http://twitpic.com/2y2lx - http:...         0\n",
              "3   @lapcat Need to send 'em to my accountant tomo...         0\n",
              "4       ADD ME ON MYSPACE!!!  myspace.com/LookThunder         0\n",
              "5               so sleepy. good times tonight though          0\n",
              "6   @SilkCharm re: #nbn as someone already said, d...         0\n",
              "7                  23 or 24ï¿½C possible today. Nice          0\n",
              "8         nite twitterville  workout in the am  -ciao         0\n",
              "9     @daNanner Night, darlin'!  Sweet dreams to you          0\n",
              "10                           Good morning everybody!          0\n",
              "11  Finally! I just created my WordPress Blog. The...         0\n",
              "12  kisha they cnt get over u til they get out frm...         0\n",
              "13  @nicolerichie Yes i remember that band, It was...         0\n",
              "14             I really love reflections and shadows          0"
            ],
            "text/html": [
              "\n",
              "  <div id=\"df-454cdfb0-db1c-4ce7-9001-6f4e55227a85\">\n",
              "    <div class=\"colab-df-container\">\n",
              "      <div>\n",
              "<style scoped>\n",
              "    .dataframe tbody tr th:only-of-type {\n",
              "        vertical-align: middle;\n",
              "    }\n",
              "\n",
              "    .dataframe tbody tr th {\n",
              "        vertical-align: top;\n",
              "    }\n",
              "\n",
              "    .dataframe thead th {\n",
              "        text-align: right;\n",
              "    }\n",
              "</style>\n",
              "<table border=\"1\" class=\"dataframe\">\n",
              "  <thead>\n",
              "    <tr style=\"text-align: right;\">\n",
              "      <th></th>\n",
              "      <th>Tweets</th>\n",
              "      <th>Polarity</th>\n",
              "    </tr>\n",
              "  </thead>\n",
              "  <tbody>\n",
              "    <tr>\n",
              "      <th>0</th>\n",
              "      <td>just had a real good moment. i missssssssss hi...</td>\n",
              "      <td>0</td>\n",
              "    </tr>\n",
              "    <tr>\n",
              "      <th>1</th>\n",
              "      <td>is reading manga  http://plurk.com/p/mzp1e</td>\n",
              "      <td>0</td>\n",
              "    </tr>\n",
              "    <tr>\n",
              "      <th>2</th>\n",
              "      <td>@comeagainjen http://twitpic.com/2y2lx - http:...</td>\n",
              "      <td>0</td>\n",
              "    </tr>\n",
              "    <tr>\n",
              "      <th>3</th>\n",
              "      <td>@lapcat Need to send 'em to my accountant tomo...</td>\n",
              "      <td>0</td>\n",
              "    </tr>\n",
              "    <tr>\n",
              "      <th>4</th>\n",
              "      <td>ADD ME ON MYSPACE!!!  myspace.com/LookThunder</td>\n",
              "      <td>0</td>\n",
              "    </tr>\n",
              "    <tr>\n",
              "      <th>5</th>\n",
              "      <td>so sleepy. good times tonight though</td>\n",
              "      <td>0</td>\n",
              "    </tr>\n",
              "    <tr>\n",
              "      <th>6</th>\n",
              "      <td>@SilkCharm re: #nbn as someone already said, d...</td>\n",
              "      <td>0</td>\n",
              "    </tr>\n",
              "    <tr>\n",
              "      <th>7</th>\n",
              "      <td>23 or 24ï¿½C possible today. Nice</td>\n",
              "      <td>0</td>\n",
              "    </tr>\n",
              "    <tr>\n",
              "      <th>8</th>\n",
              "      <td>nite twitterville  workout in the am  -ciao</td>\n",
              "      <td>0</td>\n",
              "    </tr>\n",
              "    <tr>\n",
              "      <th>9</th>\n",
              "      <td>@daNanner Night, darlin'!  Sweet dreams to you</td>\n",
              "      <td>0</td>\n",
              "    </tr>\n",
              "    <tr>\n",
              "      <th>10</th>\n",
              "      <td>Good morning everybody!</td>\n",
              "      <td>0</td>\n",
              "    </tr>\n",
              "    <tr>\n",
              "      <th>11</th>\n",
              "      <td>Finally! I just created my WordPress Blog. The...</td>\n",
              "      <td>0</td>\n",
              "    </tr>\n",
              "    <tr>\n",
              "      <th>12</th>\n",
              "      <td>kisha they cnt get over u til they get out frm...</td>\n",
              "      <td>0</td>\n",
              "    </tr>\n",
              "    <tr>\n",
              "      <th>13</th>\n",
              "      <td>@nicolerichie Yes i remember that band, It was...</td>\n",
              "      <td>0</td>\n",
              "    </tr>\n",
              "    <tr>\n",
              "      <th>14</th>\n",
              "      <td>I really love reflections and shadows</td>\n",
              "      <td>0</td>\n",
              "    </tr>\n",
              "  </tbody>\n",
              "</table>\n",
              "</div>\n",
              "      <button class=\"colab-df-convert\" onclick=\"convertToInteractive('df-454cdfb0-db1c-4ce7-9001-6f4e55227a85')\"\n",
              "              title=\"Convert this dataframe to an interactive table.\"\n",
              "              style=\"display:none;\">\n",
              "        \n",
              "  <svg xmlns=\"http://www.w3.org/2000/svg\" height=\"24px\"viewBox=\"0 0 24 24\"\n",
              "       width=\"24px\">\n",
              "    <path d=\"M0 0h24v24H0V0z\" fill=\"none\"/>\n",
              "    <path d=\"M18.56 5.44l.94 2.06.94-2.06 2.06-.94-2.06-.94-.94-2.06-.94 2.06-2.06.94zm-11 1L8.5 8.5l.94-2.06 2.06-.94-2.06-.94L8.5 2.5l-.94 2.06-2.06.94zm10 10l.94 2.06.94-2.06 2.06-.94-2.06-.94-.94-2.06-.94 2.06-2.06.94z\"/><path d=\"M17.41 7.96l-1.37-1.37c-.4-.4-.92-.59-1.43-.59-.52 0-1.04.2-1.43.59L10.3 9.45l-7.72 7.72c-.78.78-.78 2.05 0 2.83L4 21.41c.39.39.9.59 1.41.59.51 0 1.02-.2 1.41-.59l7.78-7.78 2.81-2.81c.8-.78.8-2.07 0-2.86zM5.41 20L4 18.59l7.72-7.72 1.47 1.35L5.41 20z\"/>\n",
              "  </svg>\n",
              "      </button>\n",
              "      \n",
              "  <style>\n",
              "    .colab-df-container {\n",
              "      display:flex;\n",
              "      flex-wrap:wrap;\n",
              "      gap: 12px;\n",
              "    }\n",
              "\n",
              "    .colab-df-convert {\n",
              "      background-color: #E8F0FE;\n",
              "      border: none;\n",
              "      border-radius: 50%;\n",
              "      cursor: pointer;\n",
              "      display: none;\n",
              "      fill: #1967D2;\n",
              "      height: 32px;\n",
              "      padding: 0 0 0 0;\n",
              "      width: 32px;\n",
              "    }\n",
              "\n",
              "    .colab-df-convert:hover {\n",
              "      background-color: #E2EBFA;\n",
              "      box-shadow: 0px 1px 2px rgba(60, 64, 67, 0.3), 0px 1px 3px 1px rgba(60, 64, 67, 0.15);\n",
              "      fill: #174EA6;\n",
              "    }\n",
              "\n",
              "    [theme=dark] .colab-df-convert {\n",
              "      background-color: #3B4455;\n",
              "      fill: #D2E3FC;\n",
              "    }\n",
              "\n",
              "    [theme=dark] .colab-df-convert:hover {\n",
              "      background-color: #434B5C;\n",
              "      box-shadow: 0px 1px 3px 1px rgba(0, 0, 0, 0.15);\n",
              "      filter: drop-shadow(0px 1px 2px rgba(0, 0, 0, 0.3));\n",
              "      fill: #FFFFFF;\n",
              "    }\n",
              "  </style>\n",
              "\n",
              "      <script>\n",
              "        const buttonEl =\n",
              "          document.querySelector('#df-454cdfb0-db1c-4ce7-9001-6f4e55227a85 button.colab-df-convert');\n",
              "        buttonEl.style.display =\n",
              "          google.colab.kernel.accessAllowed ? 'block' : 'none';\n",
              "\n",
              "        async function convertToInteractive(key) {\n",
              "          const element = document.querySelector('#df-454cdfb0-db1c-4ce7-9001-6f4e55227a85');\n",
              "          const dataTable =\n",
              "            await google.colab.kernel.invokeFunction('convertToInteractive',\n",
              "                                                     [key], {});\n",
              "          if (!dataTable) return;\n",
              "\n",
              "          const docLinkHtml = 'Like what you see? Visit the ' +\n",
              "            '<a target=\"_blank\" href=https://colab.research.google.com/notebooks/data_table.ipynb>data table notebook</a>'\n",
              "            + ' to learn more about interactive tables.';\n",
              "          element.innerHTML = '';\n",
              "          dataTable['output_type'] = 'display_data';\n",
              "          await google.colab.output.renderOutput(dataTable, element);\n",
              "          const docLink = document.createElement('div');\n",
              "          docLink.innerHTML = docLinkHtml;\n",
              "          element.appendChild(docLink);\n",
              "        }\n",
              "      </script>\n",
              "    </div>\n",
              "  </div>\n",
              "  "
            ]
          },
          "metadata": {},
          "execution_count": 9
        }
      ]
    },
    {
      "cell_type": "code",
      "source": [
        "# Checking for missing values\n",
        "df.isna().sum()"
      ],
      "metadata": {
        "colab": {
          "base_uri": "https://localhost:8080/"
        },
        "id": "dmROfW_9hdvc",
        "outputId": "9436fb22-41a3-4b30-adb7-b0b639809285"
      },
      "execution_count": 10,
      "outputs": [
        {
          "output_type": "execute_result",
          "data": {
            "text/plain": [
              "Tweets      0\n",
              "Polarity    0\n",
              "dtype: int64"
            ]
          },
          "metadata": {},
          "execution_count": 10
        }
      ]
    },
    {
      "cell_type": "code",
      "source": [
        "# We see that there are no missing values thus we carry on with the preprocessing\n",
        "\n",
        "# Preprocess data\n",
        "import re\n",
        "import nltk\n",
        "from nltk.corpus import stopwords\n",
        "from wordcloud import WordCloud, STOPWORDS\n",
        "import spacy\n",
        "\n",
        "nltk.download('stopwords')\n",
        "\n",
        "# Convert Text to lower case\n",
        "df['Tweets'] = df['Tweets'].str.strip().str.lower()\n",
        "\n",
        "# Initialize Spacy 'en' model\n",
        "nlp = spacy.load('en', disable = ['parser', 'ner'])\n",
        "\n",
        "# Remove usernames and links\n",
        "def remove_usernames_links(tweet):\n",
        "    tweet = re.sub('@[^\\s]+','',tweet)\n",
        "    tweet = re.sub('http[^\\s]+','',tweet)\n",
        "    return tweet\n",
        "\n",
        "df['Tweets'] = df['Tweets'].apply(remove_usernames_links)\n",
        "\n",
        "# Remove punctuations\n",
        "def remove_punctuation(tweet):\n",
        "  tweet = re.sub('[^\\w\\s]', '', tweet)\n",
        "  return tweet\n",
        "\n",
        "df['Tweets'] = df['Tweets'].apply(remove_punctuation)\n",
        "\n",
        "# Remove Stopwords\n",
        "stop = stopwords.words('english')\n",
        "df['Tweets'] = df['Tweets'].apply(lambda x: \" \".join(x for x in x.split(' ') if x not in stop))\n",
        "\n",
        "# Lemmatization\n",
        "def space(comment):\n",
        "  doc = nlp(comment)\n",
        "  return \" \".join([token.lemma_ for token in doc])\n",
        "\n",
        "df['Tweets'] = df['Tweets'].apply(space)\n",
        "\n",
        "df.head(15)"
      ],
      "metadata": {
        "colab": {
          "base_uri": "https://localhost:8080/",
          "height": 554
        },
        "id": "RA4k0rI_dvN2",
        "outputId": "1c6b46d1-5bfe-48df-e3a7-2ae5e45a4f8d"
      },
      "execution_count": 11,
      "outputs": [
        {
          "output_type": "stream",
          "name": "stdout",
          "text": [
            "[nltk_data] Downloading package stopwords to /root/nltk_data...\n",
            "[nltk_data]   Unzipping corpora/stopwords.zip.\n"
          ]
        },
        {
          "output_type": "execute_result",
          "data": {
            "text/plain": [
              "                                               Tweets  Polarity\n",
              "0                  real good moment missssssssss much         0\n",
              "1                                        read manga           0\n",
              "2                                                             0\n",
              "3     need send -PRON- accountant tomorrow oddly b...         0\n",
              "4                 add myspace   myspacecomlookthunder         0\n",
              "5                     sleepy good time tonight though         0\n",
              "6     nbn someone already say fiber home mean leas...         0\n",
              "7                        23 24ï½c possible today nice         0\n",
              "8                  nite twitterville   workout   ciao         0\n",
              "9                          night darlin   sweet dream         0\n",
              "10                             good morning everybody         0\n",
              "11  finally create wordpress blog there s already ...         0\n",
              "12      kisha cnt get u til get frm u remember ur top         0\n",
              "13             yes remember band awesome please reply         0\n",
              "14                      really love reflection shadow         0"
            ],
            "text/html": [
              "\n",
              "  <div id=\"df-de110dcd-e2b0-4f8e-b89b-94180a9d2c22\">\n",
              "    <div class=\"colab-df-container\">\n",
              "      <div>\n",
              "<style scoped>\n",
              "    .dataframe tbody tr th:only-of-type {\n",
              "        vertical-align: middle;\n",
              "    }\n",
              "\n",
              "    .dataframe tbody tr th {\n",
              "        vertical-align: top;\n",
              "    }\n",
              "\n",
              "    .dataframe thead th {\n",
              "        text-align: right;\n",
              "    }\n",
              "</style>\n",
              "<table border=\"1\" class=\"dataframe\">\n",
              "  <thead>\n",
              "    <tr style=\"text-align: right;\">\n",
              "      <th></th>\n",
              "      <th>Tweets</th>\n",
              "      <th>Polarity</th>\n",
              "    </tr>\n",
              "  </thead>\n",
              "  <tbody>\n",
              "    <tr>\n",
              "      <th>0</th>\n",
              "      <td>real good moment missssssssss much</td>\n",
              "      <td>0</td>\n",
              "    </tr>\n",
              "    <tr>\n",
              "      <th>1</th>\n",
              "      <td>read manga</td>\n",
              "      <td>0</td>\n",
              "    </tr>\n",
              "    <tr>\n",
              "      <th>2</th>\n",
              "      <td></td>\n",
              "      <td>0</td>\n",
              "    </tr>\n",
              "    <tr>\n",
              "      <th>3</th>\n",
              "      <td>need send -PRON- accountant tomorrow oddly b...</td>\n",
              "      <td>0</td>\n",
              "    </tr>\n",
              "    <tr>\n",
              "      <th>4</th>\n",
              "      <td>add myspace   myspacecomlookthunder</td>\n",
              "      <td>0</td>\n",
              "    </tr>\n",
              "    <tr>\n",
              "      <th>5</th>\n",
              "      <td>sleepy good time tonight though</td>\n",
              "      <td>0</td>\n",
              "    </tr>\n",
              "    <tr>\n",
              "      <th>6</th>\n",
              "      <td>nbn someone already say fiber home mean leas...</td>\n",
              "      <td>0</td>\n",
              "    </tr>\n",
              "    <tr>\n",
              "      <th>7</th>\n",
              "      <td>23 24ï½c possible today nice</td>\n",
              "      <td>0</td>\n",
              "    </tr>\n",
              "    <tr>\n",
              "      <th>8</th>\n",
              "      <td>nite twitterville   workout   ciao</td>\n",
              "      <td>0</td>\n",
              "    </tr>\n",
              "    <tr>\n",
              "      <th>9</th>\n",
              "      <td>night darlin   sweet dream</td>\n",
              "      <td>0</td>\n",
              "    </tr>\n",
              "    <tr>\n",
              "      <th>10</th>\n",
              "      <td>good morning everybody</td>\n",
              "      <td>0</td>\n",
              "    </tr>\n",
              "    <tr>\n",
              "      <th>11</th>\n",
              "      <td>finally create wordpress blog there s already ...</td>\n",
              "      <td>0</td>\n",
              "    </tr>\n",
              "    <tr>\n",
              "      <th>12</th>\n",
              "      <td>kisha cnt get u til get frm u remember ur top</td>\n",
              "      <td>0</td>\n",
              "    </tr>\n",
              "    <tr>\n",
              "      <th>13</th>\n",
              "      <td>yes remember band awesome please reply</td>\n",
              "      <td>0</td>\n",
              "    </tr>\n",
              "    <tr>\n",
              "      <th>14</th>\n",
              "      <td>really love reflection shadow</td>\n",
              "      <td>0</td>\n",
              "    </tr>\n",
              "  </tbody>\n",
              "</table>\n",
              "</div>\n",
              "      <button class=\"colab-df-convert\" onclick=\"convertToInteractive('df-de110dcd-e2b0-4f8e-b89b-94180a9d2c22')\"\n",
              "              title=\"Convert this dataframe to an interactive table.\"\n",
              "              style=\"display:none;\">\n",
              "        \n",
              "  <svg xmlns=\"http://www.w3.org/2000/svg\" height=\"24px\"viewBox=\"0 0 24 24\"\n",
              "       width=\"24px\">\n",
              "    <path d=\"M0 0h24v24H0V0z\" fill=\"none\"/>\n",
              "    <path d=\"M18.56 5.44l.94 2.06.94-2.06 2.06-.94-2.06-.94-.94-2.06-.94 2.06-2.06.94zm-11 1L8.5 8.5l.94-2.06 2.06-.94-2.06-.94L8.5 2.5l-.94 2.06-2.06.94zm10 10l.94 2.06.94-2.06 2.06-.94-2.06-.94-.94-2.06-.94 2.06-2.06.94z\"/><path d=\"M17.41 7.96l-1.37-1.37c-.4-.4-.92-.59-1.43-.59-.52 0-1.04.2-1.43.59L10.3 9.45l-7.72 7.72c-.78.78-.78 2.05 0 2.83L4 21.41c.39.39.9.59 1.41.59.51 0 1.02-.2 1.41-.59l7.78-7.78 2.81-2.81c.8-.78.8-2.07 0-2.86zM5.41 20L4 18.59l7.72-7.72 1.47 1.35L5.41 20z\"/>\n",
              "  </svg>\n",
              "      </button>\n",
              "      \n",
              "  <style>\n",
              "    .colab-df-container {\n",
              "      display:flex;\n",
              "      flex-wrap:wrap;\n",
              "      gap: 12px;\n",
              "    }\n",
              "\n",
              "    .colab-df-convert {\n",
              "      background-color: #E8F0FE;\n",
              "      border: none;\n",
              "      border-radius: 50%;\n",
              "      cursor: pointer;\n",
              "      display: none;\n",
              "      fill: #1967D2;\n",
              "      height: 32px;\n",
              "      padding: 0 0 0 0;\n",
              "      width: 32px;\n",
              "    }\n",
              "\n",
              "    .colab-df-convert:hover {\n",
              "      background-color: #E2EBFA;\n",
              "      box-shadow: 0px 1px 2px rgba(60, 64, 67, 0.3), 0px 1px 3px 1px rgba(60, 64, 67, 0.15);\n",
              "      fill: #174EA6;\n",
              "    }\n",
              "\n",
              "    [theme=dark] .colab-df-convert {\n",
              "      background-color: #3B4455;\n",
              "      fill: #D2E3FC;\n",
              "    }\n",
              "\n",
              "    [theme=dark] .colab-df-convert:hover {\n",
              "      background-color: #434B5C;\n",
              "      box-shadow: 0px 1px 3px 1px rgba(0, 0, 0, 0.15);\n",
              "      filter: drop-shadow(0px 1px 2px rgba(0, 0, 0, 0.3));\n",
              "      fill: #FFFFFF;\n",
              "    }\n",
              "  </style>\n",
              "\n",
              "      <script>\n",
              "        const buttonEl =\n",
              "          document.querySelector('#df-de110dcd-e2b0-4f8e-b89b-94180a9d2c22 button.colab-df-convert');\n",
              "        buttonEl.style.display =\n",
              "          google.colab.kernel.accessAllowed ? 'block' : 'none';\n",
              "\n",
              "        async function convertToInteractive(key) {\n",
              "          const element = document.querySelector('#df-de110dcd-e2b0-4f8e-b89b-94180a9d2c22');\n",
              "          const dataTable =\n",
              "            await google.colab.kernel.invokeFunction('convertToInteractive',\n",
              "                                                     [key], {});\n",
              "          if (!dataTable) return;\n",
              "\n",
              "          const docLinkHtml = 'Like what you see? Visit the ' +\n",
              "            '<a target=\"_blank\" href=https://colab.research.google.com/notebooks/data_table.ipynb>data table notebook</a>'\n",
              "            + ' to learn more about interactive tables.';\n",
              "          element.innerHTML = '';\n",
              "          dataTable['output_type'] = 'display_data';\n",
              "          await google.colab.output.renderOutput(dataTable, element);\n",
              "          const docLink = document.createElement('div');\n",
              "          docLink.innerHTML = docLinkHtml;\n",
              "          element.appendChild(docLink);\n",
              "        }\n",
              "      </script>\n",
              "    </div>\n",
              "  </div>\n",
              "  "
            ]
          },
          "metadata": {},
          "execution_count": 11
        }
      ]
    },
    {
      "cell_type": "code",
      "source": [
        "# Outputting last 15 rows with df.tail()\n",
        "df.tail(15)"
      ],
      "metadata": {
        "colab": {
          "base_uri": "https://localhost:8080/",
          "height": 520
        },
        "id": "BXreRPf3FUla",
        "outputId": "a37db5ee-5e2a-4df5-86a8-defe74b3f20d"
      },
      "execution_count": 12,
      "outputs": [
        {
          "output_type": "execute_result",
          "data": {
            "text/plain": [
              "                                                  Tweets  Polarity\n",
              "10299  engage physical activity decrease people chanc...         1\n",
              "10300              depression -PRON- be always u darling         1\n",
              "10301  -PRON- be suffer depression -PRON- be thankful...         1\n",
              "10302          one 20 us child teen anxiety depression           1\n",
              "10303  -PRON- be go see   next week chicago -PRON- be...         1\n",
              "10304  reagan bush 43   trump gop use maga slogan   r...         1\n",
              "10305  rt depression could improve vitamin deficiency...         1\n",
              "10306  actor symptom adult depression naked gteen por...         1\n",
              "10307            bharatu may book court law provoke s...         1\n",
              "10308  many sufferer depression be not sad feel nothi...         1\n",
              "10309  depression g herbo mood -PRON- be do stress pe...         1\n",
              "10310  depression succumb brain make feel like -PRON-...         1\n",
              "10311  ketamine nasal spray show promise depression s...         1\n",
              "10312  do not mistake bad day depression everyone -PRON-         1\n",
              "10313                                                  0         1"
            ],
            "text/html": [
              "\n",
              "  <div id=\"df-9f0a5a32-51c3-4ae8-99e3-b6fc7b8c991a\">\n",
              "    <div class=\"colab-df-container\">\n",
              "      <div>\n",
              "<style scoped>\n",
              "    .dataframe tbody tr th:only-of-type {\n",
              "        vertical-align: middle;\n",
              "    }\n",
              "\n",
              "    .dataframe tbody tr th {\n",
              "        vertical-align: top;\n",
              "    }\n",
              "\n",
              "    .dataframe thead th {\n",
              "        text-align: right;\n",
              "    }\n",
              "</style>\n",
              "<table border=\"1\" class=\"dataframe\">\n",
              "  <thead>\n",
              "    <tr style=\"text-align: right;\">\n",
              "      <th></th>\n",
              "      <th>Tweets</th>\n",
              "      <th>Polarity</th>\n",
              "    </tr>\n",
              "  </thead>\n",
              "  <tbody>\n",
              "    <tr>\n",
              "      <th>10299</th>\n",
              "      <td>engage physical activity decrease people chanc...</td>\n",
              "      <td>1</td>\n",
              "    </tr>\n",
              "    <tr>\n",
              "      <th>10300</th>\n",
              "      <td>depression -PRON- be always u darling</td>\n",
              "      <td>1</td>\n",
              "    </tr>\n",
              "    <tr>\n",
              "      <th>10301</th>\n",
              "      <td>-PRON- be suffer depression -PRON- be thankful...</td>\n",
              "      <td>1</td>\n",
              "    </tr>\n",
              "    <tr>\n",
              "      <th>10302</th>\n",
              "      <td>one 20 us child teen anxiety depression</td>\n",
              "      <td>1</td>\n",
              "    </tr>\n",
              "    <tr>\n",
              "      <th>10303</th>\n",
              "      <td>-PRON- be go see   next week chicago -PRON- be...</td>\n",
              "      <td>1</td>\n",
              "    </tr>\n",
              "    <tr>\n",
              "      <th>10304</th>\n",
              "      <td>reagan bush 43   trump gop use maga slogan   r...</td>\n",
              "      <td>1</td>\n",
              "    </tr>\n",
              "    <tr>\n",
              "      <th>10305</th>\n",
              "      <td>rt depression could improve vitamin deficiency...</td>\n",
              "      <td>1</td>\n",
              "    </tr>\n",
              "    <tr>\n",
              "      <th>10306</th>\n",
              "      <td>actor symptom adult depression naked gteen por...</td>\n",
              "      <td>1</td>\n",
              "    </tr>\n",
              "    <tr>\n",
              "      <th>10307</th>\n",
              "      <td>bharatu may book court law provoke s...</td>\n",
              "      <td>1</td>\n",
              "    </tr>\n",
              "    <tr>\n",
              "      <th>10308</th>\n",
              "      <td>many sufferer depression be not sad feel nothi...</td>\n",
              "      <td>1</td>\n",
              "    </tr>\n",
              "    <tr>\n",
              "      <th>10309</th>\n",
              "      <td>depression g herbo mood -PRON- be do stress pe...</td>\n",
              "      <td>1</td>\n",
              "    </tr>\n",
              "    <tr>\n",
              "      <th>10310</th>\n",
              "      <td>depression succumb brain make feel like -PRON-...</td>\n",
              "      <td>1</td>\n",
              "    </tr>\n",
              "    <tr>\n",
              "      <th>10311</th>\n",
              "      <td>ketamine nasal spray show promise depression s...</td>\n",
              "      <td>1</td>\n",
              "    </tr>\n",
              "    <tr>\n",
              "      <th>10312</th>\n",
              "      <td>do not mistake bad day depression everyone -PRON-</td>\n",
              "      <td>1</td>\n",
              "    </tr>\n",
              "    <tr>\n",
              "      <th>10313</th>\n",
              "      <td>0</td>\n",
              "      <td>1</td>\n",
              "    </tr>\n",
              "  </tbody>\n",
              "</table>\n",
              "</div>\n",
              "      <button class=\"colab-df-convert\" onclick=\"convertToInteractive('df-9f0a5a32-51c3-4ae8-99e3-b6fc7b8c991a')\"\n",
              "              title=\"Convert this dataframe to an interactive table.\"\n",
              "              style=\"display:none;\">\n",
              "        \n",
              "  <svg xmlns=\"http://www.w3.org/2000/svg\" height=\"24px\"viewBox=\"0 0 24 24\"\n",
              "       width=\"24px\">\n",
              "    <path d=\"M0 0h24v24H0V0z\" fill=\"none\"/>\n",
              "    <path d=\"M18.56 5.44l.94 2.06.94-2.06 2.06-.94-2.06-.94-.94-2.06-.94 2.06-2.06.94zm-11 1L8.5 8.5l.94-2.06 2.06-.94-2.06-.94L8.5 2.5l-.94 2.06-2.06.94zm10 10l.94 2.06.94-2.06 2.06-.94-2.06-.94-.94-2.06-.94 2.06-2.06.94z\"/><path d=\"M17.41 7.96l-1.37-1.37c-.4-.4-.92-.59-1.43-.59-.52 0-1.04.2-1.43.59L10.3 9.45l-7.72 7.72c-.78.78-.78 2.05 0 2.83L4 21.41c.39.39.9.59 1.41.59.51 0 1.02-.2 1.41-.59l7.78-7.78 2.81-2.81c.8-.78.8-2.07 0-2.86zM5.41 20L4 18.59l7.72-7.72 1.47 1.35L5.41 20z\"/>\n",
              "  </svg>\n",
              "      </button>\n",
              "      \n",
              "  <style>\n",
              "    .colab-df-container {\n",
              "      display:flex;\n",
              "      flex-wrap:wrap;\n",
              "      gap: 12px;\n",
              "    }\n",
              "\n",
              "    .colab-df-convert {\n",
              "      background-color: #E8F0FE;\n",
              "      border: none;\n",
              "      border-radius: 50%;\n",
              "      cursor: pointer;\n",
              "      display: none;\n",
              "      fill: #1967D2;\n",
              "      height: 32px;\n",
              "      padding: 0 0 0 0;\n",
              "      width: 32px;\n",
              "    }\n",
              "\n",
              "    .colab-df-convert:hover {\n",
              "      background-color: #E2EBFA;\n",
              "      box-shadow: 0px 1px 2px rgba(60, 64, 67, 0.3), 0px 1px 3px 1px rgba(60, 64, 67, 0.15);\n",
              "      fill: #174EA6;\n",
              "    }\n",
              "\n",
              "    [theme=dark] .colab-df-convert {\n",
              "      background-color: #3B4455;\n",
              "      fill: #D2E3FC;\n",
              "    }\n",
              "\n",
              "    [theme=dark] .colab-df-convert:hover {\n",
              "      background-color: #434B5C;\n",
              "      box-shadow: 0px 1px 3px 1px rgba(0, 0, 0, 0.15);\n",
              "      filter: drop-shadow(0px 1px 2px rgba(0, 0, 0, 0.3));\n",
              "      fill: #FFFFFF;\n",
              "    }\n",
              "  </style>\n",
              "\n",
              "      <script>\n",
              "        const buttonEl =\n",
              "          document.querySelector('#df-9f0a5a32-51c3-4ae8-99e3-b6fc7b8c991a button.colab-df-convert');\n",
              "        buttonEl.style.display =\n",
              "          google.colab.kernel.accessAllowed ? 'block' : 'none';\n",
              "\n",
              "        async function convertToInteractive(key) {\n",
              "          const element = document.querySelector('#df-9f0a5a32-51c3-4ae8-99e3-b6fc7b8c991a');\n",
              "          const dataTable =\n",
              "            await google.colab.kernel.invokeFunction('convertToInteractive',\n",
              "                                                     [key], {});\n",
              "          if (!dataTable) return;\n",
              "\n",
              "          const docLinkHtml = 'Like what you see? Visit the ' +\n",
              "            '<a target=\"_blank\" href=https://colab.research.google.com/notebooks/data_table.ipynb>data table notebook</a>'\n",
              "            + ' to learn more about interactive tables.';\n",
              "          element.innerHTML = '';\n",
              "          dataTable['output_type'] = 'display_data';\n",
              "          await google.colab.output.renderOutput(dataTable, element);\n",
              "          const docLink = document.createElement('div');\n",
              "          docLink.innerHTML = docLinkHtml;\n",
              "          element.appendChild(docLink);\n",
              "        }\n",
              "      </script>\n",
              "    </div>\n",
              "  </div>\n",
              "  "
            ]
          },
          "metadata": {},
          "execution_count": 12
        }
      ]
    },
    {
      "cell_type": "code",
      "source": [
        "# Again checking for invalid rows\n",
        "(df['Tweets'] == '').sum()"
      ],
      "metadata": {
        "colab": {
          "base_uri": "https://localhost:8080/"
        },
        "id": "5loFojZ6GIiN",
        "outputId": "2eb78226-c176-45bd-8427-07292c268c17"
      },
      "execution_count": 13,
      "outputs": [
        {
          "output_type": "execute_result",
          "data": {
            "text/plain": [
              "25"
            ]
          },
          "metadata": {},
          "execution_count": 13
        }
      ]
    },
    {
      "cell_type": "code",
      "source": [
        "df.shape"
      ],
      "metadata": {
        "colab": {
          "base_uri": "https://localhost:8080/"
        },
        "id": "sFGqgTbuHEMB",
        "outputId": "378d5708-6ef2-43cc-b844-1180d658dd4e"
      },
      "execution_count": 14,
      "outputs": [
        {
          "output_type": "execute_result",
          "data": {
            "text/plain": [
              "(10314, 2)"
            ]
          },
          "metadata": {},
          "execution_count": 14
        }
      ]
    },
    {
      "cell_type": "code",
      "source": [
        "# Checking for rows containing just numbers\n",
        "def remove_numbers(tweet):\n",
        "  if tweet.isdigit():\n",
        "    tweet = ''\n",
        "\n",
        "  return tweet\n",
        "\n",
        "df['Tweets'] = df['Tweets'].apply(remove_numbers)\n",
        "\n",
        "(df['Tweets'] == '').sum()"
      ],
      "metadata": {
        "colab": {
          "base_uri": "https://localhost:8080/"
        },
        "id": "6wjgcyaNCd7j",
        "outputId": "3df8fa5e-7d6c-4163-ec9b-60075396f850"
      },
      "execution_count": 15,
      "outputs": [
        {
          "output_type": "execute_result",
          "data": {
            "text/plain": [
              "31"
            ]
          },
          "metadata": {},
          "execution_count": 15
        }
      ]
    },
    {
      "cell_type": "code",
      "source": [
        "# Thus we see that we have 25 null strings + 6 more that had rows with just numbers and hence we must drop them\n",
        "# This will change the shape of our dataset to (10283, 2)\n",
        "\n",
        "# Dropping empty strings\n",
        "nan_value = float(\"NaN\")\n",
        "df. replace('', nan_value, inplace=True)\n",
        "df = df.dropna(axis = 0)\n",
        "df.shape"
      ],
      "metadata": {
        "colab": {
          "base_uri": "https://localhost:8080/"
        },
        "id": "Ox9S6zimGh20",
        "outputId": "8ecc3203-8813-4381-fffe-af23da891ce7"
      },
      "execution_count": 16,
      "outputs": [
        {
          "output_type": "execute_result",
          "data": {
            "text/plain": [
              "(10283, 2)"
            ]
          },
          "metadata": {},
          "execution_count": 16
        }
      ]
    },
    {
      "cell_type": "code",
      "source": [
        "# Split into training and testing dataset\n",
        "from sklearn.model_selection import train_test_split\n",
        "\n",
        "x = df['Tweets']\n",
        "y = df['Polarity']\n",
        "\n",
        "X_train, X_test, Y_train, Y_test = train_test_split(x, y, stratify = y, test_size = 0.2, random_state = 42, shuffle = True)"
      ],
      "metadata": {
        "id": "vv55zBs0Hjh6"
      },
      "execution_count": 17,
      "outputs": []
    },
    {
      "cell_type": "code",
      "source": [
        "print('Xtrain: ', X_train.shape, 'Ytrain: ', Y_train.shape)\n",
        "print('Xtest: ', X_test.shape, 'Ytest: ', Y_test.shape)"
      ],
      "metadata": {
        "colab": {
          "base_uri": "https://localhost:8080/"
        },
        "id": "-sn3Wu3kJ0qg",
        "outputId": "5b49f77a-3e6b-4629-f4f7-cca568352bd6"
      },
      "execution_count": 18,
      "outputs": [
        {
          "output_type": "stream",
          "name": "stdout",
          "text": [
            "Xtrain:  (8226,) Ytrain:  (8226,)\n",
            "Xtest:  (2057,) Ytest:  (2057,)\n"
          ]
        }
      ]
    },
    {
      "cell_type": "code",
      "source": [
        "print(Y_train.value_counts())\n",
        "print(Y_test.value_counts())"
      ],
      "metadata": {
        "colab": {
          "base_uri": "https://localhost:8080/"
        },
        "id": "-x_qsh-m37nI",
        "outputId": "71782a3d-a22d-4f27-ce67-4651e640b211"
      },
      "execution_count": 20,
      "outputs": [
        {
          "output_type": "stream",
          "name": "stdout",
          "text": [
            "0    6380\n",
            "1    1846\n",
            "Name: Polarity, dtype: int64\n",
            "0    1595\n",
            "1     462\n",
            "Name: Polarity, dtype: int64\n"
          ]
        }
      ]
    },
    {
      "cell_type": "code",
      "source": [
        "from sklearn.feature_extraction.text import CountVectorizer\n",
        "\n",
        "# Vectorize text reviews to encoded numbers\n",
        "vector = CountVectorizer(stop_words = 'english')\n",
        "X_train = vector.fit_transform(X_train).toarray()\n",
        "X_test = vector.transform(X_test).toarray()"
      ],
      "metadata": {
        "id": "Ae297Q8OKJ4Y"
      },
      "execution_count": 21,
      "outputs": []
    },
    {
      "cell_type": "code",
      "source": [
        "# Model Generation\n",
        "\n",
        "# Multinomial NB\n",
        "from sklearn.naive_bayes import MultinomialNB\n",
        "model1 = MultinomialNB()\n",
        "model1.fit(X_train, Y_train)"
      ],
      "metadata": {
        "colab": {
          "base_uri": "https://localhost:8080/"
        },
        "id": "gnVvJnA7KS_M",
        "outputId": "e8a4ab5d-296d-495c-d9f7-f3dc2268d7aa"
      },
      "execution_count": 22,
      "outputs": [
        {
          "output_type": "execute_result",
          "data": {
            "text/plain": [
              "MultinomialNB()"
            ]
          },
          "metadata": {},
          "execution_count": 22
        }
      ]
    },
    {
      "cell_type": "code",
      "source": [
        "# Evaluating Training score\n",
        "model1.score(X_train, Y_train)"
      ],
      "metadata": {
        "colab": {
          "base_uri": "https://localhost:8080/"
        },
        "id": "rCl5PLi0NA9R",
        "outputId": "0d4b47e4-b6d7-4dd3-aa17-162dd77b0e96"
      },
      "execution_count": 23,
      "outputs": [
        {
          "output_type": "execute_result",
          "data": {
            "text/plain": [
              "0.9912472647702407"
            ]
          },
          "metadata": {},
          "execution_count": 23
        }
      ]
    },
    {
      "cell_type": "code",
      "source": [
        "# Function to generate metrics\n",
        "def metrics(labels, predictions):\n",
        "    true_pos, true_neg, false_pos, false_neg = 0, 0, 0, 0\n",
        "    for i in range(len(labels)):\n",
        "        true_pos += int(labels.iloc[i] == 1 and predictions[i] == 1)\n",
        "        true_neg += int(labels.iloc[i] == 0 and predictions[i] == 0)\n",
        "        false_pos += int(labels.iloc[i] == 0 and predictions[i] == 1)\n",
        "        false_neg += int(labels.iloc[i] == 1 and predictions[i] == 0)\n",
        "    precision = true_pos / (true_pos + false_pos)\n",
        "    recall = true_pos / (true_pos + false_neg)\n",
        "    Fscore = 2 * precision * recall / (precision + recall)\n",
        "    accuracy = (true_pos + true_neg) / (true_pos + true_neg + false_pos + false_neg)\n",
        "    return true_pos, true_neg, false_pos, false_neg, accuracy, precision, recall, Fscore"
      ],
      "metadata": {
        "id": "dxEHK71N88qe"
      },
      "execution_count": 24,
      "outputs": []
    },
    {
      "cell_type": "code",
      "source": [
        "# Testing our own calculations\n",
        "predictions1 = model1.predict(X_test)\n",
        "true_pos1, true_neg1, false_pos1, false_neg1, a1, p1, r1, f1 = metrics(Y_test, predictions1)\n",
        "\n",
        "print(\"Accuracy: \", a1)\n",
        "print(\"Precision: \", p1)\n",
        "print(\"Recall: \", r1)\n",
        "print(\"F-score: \", f1)"
      ],
      "metadata": {
        "colab": {
          "base_uri": "https://localhost:8080/"
        },
        "id": "xf-AqF008ntr",
        "outputId": "2f22a14d-da6c-437c-8520-55142bcee628"
      },
      "execution_count": 25,
      "outputs": [
        {
          "output_type": "stream",
          "name": "stdout",
          "text": [
            "Accuracy:  0.9795819154107924\n",
            "Precision:  0.9356846473029046\n",
            "Recall:  0.9761904761904762\n",
            "F-score:  0.9555084745762712\n"
          ]
        }
      ]
    },
    {
      "cell_type": "code",
      "source": [
        "# Print Confusion Matrix\n",
        "matrix1 = np.zeros((2, 2))\n",
        "matrix1[0, 0] = int(true_neg1)\n",
        "matrix1[0, 1] = int(false_pos1)\n",
        "matrix1[1, 0] = int(false_neg1)\n",
        "matrix1[1, 1] = int(true_pos1)\n",
        "\n",
        "print(matrix1)"
      ],
      "metadata": {
        "colab": {
          "base_uri": "https://localhost:8080/"
        },
        "id": "O_4VrSX9-Kzy",
        "outputId": "2246b32d-bf0d-4aa1-b4de-7072027b5c67"
      },
      "execution_count": 33,
      "outputs": [
        {
          "output_type": "stream",
          "name": "stdout",
          "text": [
            "[[1564.   31.]\n",
            " [  11.  451.]]\n"
          ]
        }
      ]
    },
    {
      "cell_type": "code",
      "source": [
        "# Pitting our values against sklearn values\n",
        "from sklearn.metrics import confusion_matrix, accuracy_score, recall_score, precision_score, f1_score\n",
        "\n",
        "check_matrix1 = confusion_matrix(Y_test, predictions1)\n",
        "cm1 = pd.DataFrame(check_matrix1, index=['0', '1'], columns=['0', '1'])\n",
        "print(cm1)"
      ],
      "metadata": {
        "colab": {
          "base_uri": "https://localhost:8080/"
        },
        "id": "_Y738Hcv_m4Z",
        "outputId": "e995b88e-186e-499b-93eb-31e0e07fafbc"
      },
      "execution_count": 34,
      "outputs": [
        {
          "output_type": "stream",
          "name": "stdout",
          "text": [
            "      0    1\n",
            "0  1564   31\n",
            "1    11  451\n"
          ]
        }
      ]
    },
    {
      "cell_type": "code",
      "source": [
        "chk_acc1 = accuracy_score(Y_test, predictions1)\n",
        "chk_prc1 = precision_score(Y_test, predictions1)\n",
        "chk_rec1 = recall_score(Y_test, predictions1)\n",
        "chk_f1 = f1_score(Y_test, predictions1)\n",
        "\n",
        "print(\"Sklearn Accuracy: \", chk_acc1)\n",
        "print(\"Sklearn Precision: \", chk_prc1)\n",
        "print(\"Sklearn Recall: \", chk_rec1)\n",
        "print(\"Sklearn F-score: \", chk_f1)"
      ],
      "metadata": {
        "colab": {
          "base_uri": "https://localhost:8080/"
        },
        "id": "bhgzpDNgBE9h",
        "outputId": "0ae0f1d4-fb85-49d7-a3d9-7e3e6f82584e"
      },
      "execution_count": 35,
      "outputs": [
        {
          "output_type": "stream",
          "name": "stdout",
          "text": [
            "Sklearn Accuracy:  0.9795819154107924\n",
            "Sklearn Precision:  0.9356846473029046\n",
            "Sklearn Recall:  0.9761904761904762\n",
            "Sklearn F-score:  0.9555084745762712\n"
          ]
        }
      ]
    },
    {
      "cell_type": "code",
      "source": [
        "# Evaluating Testing score as output by sklearn\n",
        "model1.score(X_test, Y_test)"
      ],
      "metadata": {
        "colab": {
          "base_uri": "https://localhost:8080/"
        },
        "id": "yNTyoKwxNQ9D",
        "outputId": "777cec8b-8377-4c48-b5cc-834ba26bd1de"
      },
      "execution_count": 36,
      "outputs": [
        {
          "output_type": "execute_result",
          "data": {
            "text/plain": [
              "0.9795819154107924"
            ]
          },
          "metadata": {},
          "execution_count": 36
        }
      ]
    },
    {
      "cell_type": "code",
      "source": [
        "# Creating heatmap of confusion matrix\n",
        "import seaborn as sns\n",
        "import matplotlib.pyplot as plt\n",
        "\n",
        "ax1 = sns.heatmap(check_matrix1, annot = True, cmap = 'Greens')\n",
        "ax1.set_title('Seaborn Confusion Matrix for MultinomialNB \\n\\n')\n",
        "ax1.set_xlabel('\\Actual Values')\n",
        "ax1.set_ylabel('Predicted Values')\n",
        "\n",
        "ax1.set_xticklabels(['0', '1'])\n",
        "ax1.set_yticklabels(['0', '1'])\n",
        "\n",
        "plt.show()"
      ],
      "metadata": {
        "colab": {
          "base_uri": "https://localhost:8080/",
          "height": 325
        },
        "id": "HRKoW37nHfSb",
        "outputId": "d67457af-7d37-4608-e73a-be66cd7bcb74"
      },
      "execution_count": 42,
      "outputs": [
        {
          "output_type": "display_data",
          "data": {
            "text/plain": [
              "<Figure size 432x288 with 2 Axes>"
            ],
            "image/png": "[encoded data removed]"
          },
          "metadata": {
            "needs_background": "light"
          }
        }
      ]
    },
    {
      "cell_type": "code",
      "source": [
        "# Gaussian NB\n",
        "from sklearn.naive_bayes import GaussianNB\n",
        "model2 = GaussianNB()\n",
        "model2.fit(X_train, Y_train)"
      ],
      "metadata": {
        "colab": {
          "base_uri": "https://localhost:8080/"
        },
        "id": "XKegqxiPNXfZ",
        "outputId": "72021ab6-5cce-4677-b0a9-1a68b7be0981"
      },
      "execution_count": 43,
      "outputs": [
        {
          "output_type": "execute_result",
          "data": {
            "text/plain": [
              "GaussianNB()"
            ]
          },
          "metadata": {},
          "execution_count": 43
        }
      ]
    },
    {
      "cell_type": "code",
      "source": [
        "# Evaluating Training score\n",
        "model2.score(X_train, Y_train)"
      ],
      "metadata": {
        "colab": {
          "base_uri": "https://localhost:8080/"
        },
        "id": "CD8KbzeNQfZn",
        "outputId": "c3d9799c-1cd9-4a11-ad25-6446c4d92734"
      },
      "execution_count": 44,
      "outputs": [
        {
          "output_type": "execute_result",
          "data": {
            "text/plain": [
              "0.8334548991004134"
            ]
          },
          "metadata": {},
          "execution_count": 44
        }
      ]
    },
    {
      "cell_type": "code",
      "source": [
        "# Testing our own calculations\n",
        "predictions2 = model2.predict(X_test)\n",
        "true_pos2, true_neg2, false_pos2, false_neg2, a2, p2, r2, f2 = metrics(Y_test, predictions2)\n",
        "\n",
        "print(\"Accuracy: \", a2)\n",
        "print(\"Precision: \", p2)\n",
        "print(\"Recall: \", r2)\n",
        "print(\"F-score: \", f2)"
      ],
      "metadata": {
        "colab": {
          "base_uri": "https://localhost:8080/"
        },
        "id": "o3svSAmVLoPV",
        "outputId": "ea9ef36f-a40a-40de-c886-8f699f9bcf68"
      },
      "execution_count": 45,
      "outputs": [
        {
          "output_type": "stream",
          "name": "stdout",
          "text": [
            "Accuracy:  0.6140009722897424\n",
            "Precision:  0.3628099173553719\n",
            "Recall:  0.9502164502164502\n",
            "F-score:  0.5251196172248803\n"
          ]
        }
      ]
    },
    {
      "cell_type": "code",
      "source": [
        "# Print Confusion Matrix\n",
        "matrix2 = np.zeros((2, 2))\n",
        "matrix2[0, 0] = int(true_neg2)\n",
        "matrix2[0, 1] = int(false_pos2)\n",
        "matrix2[1, 0] = int(false_neg2)\n",
        "matrix2[1, 1] = int(true_pos2)\n",
        "\n",
        "print(matrix2)"
      ],
      "metadata": {
        "colab": {
          "base_uri": "https://localhost:8080/"
        },
        "id": "w_oyTh0zL2PW",
        "outputId": "7566f5df-47c6-4c8b-89dc-5ebe7419a721"
      },
      "execution_count": 46,
      "outputs": [
        {
          "output_type": "stream",
          "name": "stdout",
          "text": [
            "[[824. 771.]\n",
            " [ 23. 439.]]\n"
          ]
        }
      ]
    },
    {
      "cell_type": "code",
      "source": [
        "# Pitting our values against sklearn values\n",
        "check_matrix2 = confusion_matrix(Y_test, predictions2)\n",
        "cm2 = pd.DataFrame(check_matrix2, index=['0', '1'], columns=['0', '1'])\n",
        "print(cm2)"
      ],
      "metadata": {
        "colab": {
          "base_uri": "https://localhost:8080/"
        },
        "id": "-RoE3Ft7L241",
        "outputId": "9c7b2ba2-dd07-4eeb-c2d5-219110c593cb"
      },
      "execution_count": 47,
      "outputs": [
        {
          "output_type": "stream",
          "name": "stdout",
          "text": [
            "     0    1\n",
            "0  824  771\n",
            "1   23  439\n"
          ]
        }
      ]
    },
    {
      "cell_type": "code",
      "source": [
        "chk_acc2 = accuracy_score(Y_test, predictions2)\n",
        "chk_prc2 = precision_score(Y_test, predictions2)\n",
        "chk_rec2 = recall_score(Y_test, predictions2)\n",
        "chk_f2 = f1_score(Y_test, predictions2)\n",
        "\n",
        "print(\"Sklearn Accuracy: \", chk_acc2)\n",
        "print(\"Sklearn Precision: \", chk_prc2)\n",
        "print(\"Sklearn Recall: \", chk_rec2)\n",
        "print(\"Sklearn F-score: \", chk_f2)"
      ],
      "metadata": {
        "colab": {
          "base_uri": "https://localhost:8080/"
        },
        "id": "SGLwqwLOL3J7",
        "outputId": "b94b5d82-e151-46a2-d67f-d2f8bc2d93fc"
      },
      "execution_count": 48,
      "outputs": [
        {
          "output_type": "stream",
          "name": "stdout",
          "text": [
            "Sklearn Accuracy:  0.6140009722897424\n",
            "Sklearn Precision:  0.3628099173553719\n",
            "Sklearn Recall:  0.9502164502164502\n",
            "Sklearn F-score:  0.5251196172248803\n"
          ]
        }
      ]
    },
    {
      "cell_type": "code",
      "source": [
        "# Evaluating Testing score\n",
        "model2.score(X_test, Y_test)"
      ],
      "metadata": {
        "colab": {
          "base_uri": "https://localhost:8080/"
        },
        "id": "jyMS5_uoQ2Pa",
        "outputId": "69e2dd46-fbe4-43a4-8af5-a1d78f409abf"
      },
      "execution_count": 49,
      "outputs": [
        {
          "output_type": "execute_result",
          "data": {
            "text/plain": [
              "0.6140009722897424"
            ]
          },
          "metadata": {},
          "execution_count": 49
        }
      ]
    },
    {
      "cell_type": "code",
      "source": [
        "ax2 = sns.heatmap(check_matrix2, annot = True, cmap = 'Blues')\n",
        "ax2.set_title('Seaborn Confusion Matrix for MultinomialNB \\n\\n')\n",
        "ax2.set_xlabel('\\Actual Values')\n",
        "ax2.set_ylabel('Predicted Values')\n",
        "\n",
        "ax2.set_xticklabels(['0', '1'])\n",
        "ax2.set_yticklabels(['0', '1'])\n",
        "\n",
        "plt.show()"
      ],
      "metadata": {
        "colab": {
          "base_uri": "https://localhost:8080/",
          "height": 325
        },
        "id": "emXZuspWMnIB",
        "outputId": "e7db24ad-beb6-4b71-e6d3-0e56b8de62b4"
      },
      "execution_count": 50,
      "outputs": [
        {
          "output_type": "display_data",
          "data": {
            "text/plain": [
              "<Figure size 432x288 with 2 Axes>"
            ],
            "image/png": "[encoded data removed]"
          },
          "metadata": {
            "needs_background": "light"
          }
        }
      ]
    },
    {
      "cell_type": "code",
      "source": [
        "# Complement NB\n",
        "from sklearn.naive_bayes import ComplementNB\n",
        "model3 = ComplementNB()\n",
        "model3.fit(X_train, Y_train)"
      ],
      "metadata": {
        "colab": {
          "base_uri": "https://localhost:8080/"
        },
        "id": "Zs51rHPG1cn_",
        "outputId": "3e046ae5-97ad-4455-f51d-81e4423b3326"
      },
      "execution_count": 51,
      "outputs": [
        {
          "output_type": "execute_result",
          "data": {
            "text/plain": [
              "ComplementNB()"
            ]
          },
          "metadata": {},
          "execution_count": 51
        }
      ]
    },
    {
      "cell_type": "code",
      "source": [
        "# Evaluating Training score\n",
        "model3.score(X_train, Y_train)"
      ],
      "metadata": {
        "colab": {
          "base_uri": "https://localhost:8080/"
        },
        "id": "MmrnfZ2i1oOB",
        "outputId": "31939c7a-8c3c-472b-d933-9c84b1f6748f"
      },
      "execution_count": 52,
      "outputs": [
        {
          "output_type": "execute_result",
          "data": {
            "text/plain": [
              "0.973741794310722"
            ]
          },
          "metadata": {},
          "execution_count": 52
        }
      ]
    },
    {
      "cell_type": "code",
      "source": [
        "# Testing our own calculations\n",
        "predictions3 = model3.predict(X_test)\n",
        "true_pos3, true_neg3, false_pos3, false_neg3, a3, p3, r3, f3 = metrics(Y_test, predictions3)\n",
        "\n",
        "print(\"Accuracy: \", a3)\n",
        "print(\"Precision: \", p3)\n",
        "print(\"Recall: \", r3)\n",
        "print(\"F-score: \", f3)"
      ],
      "metadata": {
        "colab": {
          "base_uri": "https://localhost:8080/"
        },
        "id": "msjqiRHJNHVl",
        "outputId": "4689ed97-6162-4fa7-dd1e-873d9e1f5538"
      },
      "execution_count": 53,
      "outputs": [
        {
          "output_type": "stream",
          "name": "stdout",
          "text": [
            "Accuracy:  0.9470102090422946\n",
            "Precision:  0.818018018018018\n",
            "Recall:  0.9826839826839827\n",
            "F-score:  0.8928220255653884\n"
          ]
        }
      ]
    },
    {
      "cell_type": "code",
      "source": [
        "# Print Confusion Matrix\n",
        "matrix3 = np.zeros((2, 2))\n",
        "matrix3[0, 0] = int(true_neg3)\n",
        "matrix3[0, 1] = int(false_pos3)\n",
        "matrix3[1, 0] = int(false_neg3)\n",
        "matrix3[1, 1] = int(true_pos3)\n",
        "\n",
        "print(matrix3)"
      ],
      "metadata": {
        "colab": {
          "base_uri": "https://localhost:8080/"
        },
        "id": "4uTtkpXjNHtO",
        "outputId": "fa4a30e7-e856-4960-be07-f54f8a66f9ee"
      },
      "execution_count": 54,
      "outputs": [
        {
          "output_type": "stream",
          "name": "stdout",
          "text": [
            "[[1494.  101.]\n",
            " [   8.  454.]]\n"
          ]
        }
      ]
    },
    {
      "cell_type": "code",
      "source": [
        "# Pitting our values against sklearn values\n",
        "check_matrix3 = confusion_matrix(Y_test, predictions3)\n",
        "cm3 = pd.DataFrame(check_matrix3, index=['0', '1'], columns=['0', '1'])\n",
        "print(cm3)"
      ],
      "metadata": {
        "colab": {
          "base_uri": "https://localhost:8080/"
        },
        "id": "9N6QDURcNH3-",
        "outputId": "09e8e23a-f305-4704-c2c2-9d6fd19cfc73"
      },
      "execution_count": 55,
      "outputs": [
        {
          "output_type": "stream",
          "name": "stdout",
          "text": [
            "      0    1\n",
            "0  1494  101\n",
            "1     8  454\n"
          ]
        }
      ]
    },
    {
      "cell_type": "code",
      "source": [
        "chk_acc3 = accuracy_score(Y_test, predictions3)\n",
        "chk_prc3 = precision_score(Y_test, predictions3)\n",
        "chk_rec3 = recall_score(Y_test, predictions3)\n",
        "chk_f3 = f1_score(Y_test, predictions3)\n",
        "\n",
        "print(\"Sklearn Accuracy: \", chk_acc3)\n",
        "print(\"Sklearn Precision: \", chk_prc3)\n",
        "print(\"Sklearn Recall: \", chk_rec3)\n",
        "print(\"Sklearn F-score: \", chk_f3)"
      ],
      "metadata": {
        "colab": {
          "base_uri": "https://localhost:8080/"
        },
        "id": "pdrmKXPPNIAf",
        "outputId": "fbdf27ae-d138-495f-affa-2d01dd1ff8f2"
      },
      "execution_count": 56,
      "outputs": [
        {
          "output_type": "stream",
          "name": "stdout",
          "text": [
            "Sklearn Accuracy:  0.9470102090422946\n",
            "Sklearn Precision:  0.818018018018018\n",
            "Sklearn Recall:  0.9826839826839827\n",
            "Sklearn F-score:  0.8928220255653884\n"
          ]
        }
      ]
    },
    {
      "cell_type": "code",
      "source": [
        "# Evaluating Testing score\n",
        "model3.score(X_test, Y_test)"
      ],
      "metadata": {
        "colab": {
          "base_uri": "https://localhost:8080/"
        },
        "id": "f3Bb1fo81q5P",
        "outputId": "47ad259c-1e3d-4dec-9cf3-1c6633f49363"
      },
      "execution_count": 57,
      "outputs": [
        {
          "output_type": "execute_result",
          "data": {
            "text/plain": [
              "0.9470102090422946"
            ]
          },
          "metadata": {},
          "execution_count": 57
        }
      ]
    },
    {
      "cell_type": "code",
      "source": [
        "ax3 = sns.heatmap(check_matrix3, annot = True, cmap = 'Reds')\n",
        "ax3.set_title('Seaborn Confusion Matrix for MultinomialNB \\n\\n')\n",
        "ax3.set_xlabel('\\Actual Values')\n",
        "ax3.set_ylabel('Predicted Values')\n",
        "\n",
        "ax3.set_xticklabels(['0', '1'])\n",
        "ax3.set_yticklabels(['0', '1'])\n",
        "\n",
        "plt.show()"
      ],
      "metadata": {
        "colab": {
          "base_uri": "https://localhost:8080/",
          "height": 325
        },
        "id": "FI8i5GF3OBXw",
        "outputId": "b72b7cdd-02f0-444c-fb43-407d8abc9ec6"
      },
      "execution_count": 58,
      "outputs": [
        {
          "output_type": "display_data",
          "data": {
            "text/plain": [
              "<Figure size 432x288 with 2 Axes>"
            ],
            "image/png": "[encoded data removed]"
          },
          "metadata": {
            "needs_background": "light"
          }
        }
      ]
    },
    {
      "cell_type": "code",
      "source": [
        "# Bernoulli NB\n",
        "from sklearn.naive_bayes import BernoulliNB \n",
        "model4 = BernoulliNB()\n",
        "model4.fit(X_train, Y_train)"
      ],
      "metadata": {
        "colab": {
          "base_uri": "https://localhost:8080/"
        },
        "id": "-ZpyVZZlOkK6",
        "outputId": "00c3ef9c-339f-4ad1-88ad-16b36208ecbe"
      },
      "execution_count": 59,
      "outputs": [
        {
          "output_type": "execute_result",
          "data": {
            "text/plain": [
              "BernoulliNB()"
            ]
          },
          "metadata": {},
          "execution_count": 59
        }
      ]
    },
    {
      "cell_type": "code",
      "source": [
        "# Evaluating Training score\n",
        "model4.score(X_train, Y_train)"
      ],
      "metadata": {
        "colab": {
          "base_uri": "https://localhost:8080/"
        },
        "id": "9pJkgbpzO-WZ",
        "outputId": "a5e4138f-66e2-44fd-d490-bd05359c95cd"
      },
      "execution_count": 60,
      "outputs": [
        {
          "output_type": "execute_result",
          "data": {
            "text/plain": [
              "0.987478725990761"
            ]
          },
          "metadata": {},
          "execution_count": 60
        }
      ]
    },
    {
      "cell_type": "code",
      "source": [
        "# Testing our own calculations\n",
        "predictions4 = model4.predict(X_test)\n",
        "true_pos4, true_neg4, false_pos4, false_neg4, a4, p4, r4, f4 = metrics(Y_test, predictions4)\n",
        "\n",
        "print(\"Accuracy: \", a4)\n",
        "print(\"Precision: \", p4)\n",
        "print(\"Recall: \", r4)\n",
        "print(\"F-score: \", f4)"
      ],
      "metadata": {
        "colab": {
          "base_uri": "https://localhost:8080/"
        },
        "id": "0fgSpckEPG4p",
        "outputId": "20f74914-43dd-41e1-c082-7b0002c20040"
      },
      "execution_count": 61,
      "outputs": [
        {
          "output_type": "stream",
          "name": "stdout",
          "text": [
            "Accuracy:  0.9708313077297035\n",
            "Precision:  1.0\n",
            "Recall:  0.8701298701298701\n",
            "F-score:  0.9305555555555556\n"
          ]
        }
      ]
    },
    {
      "cell_type": "code",
      "source": [
        "# Print Confusion Matrix\n",
        "matrix4 = np.zeros((2, 2))\n",
        "matrix4[0, 0] = int(true_neg4)\n",
        "matrix4[0, 1] = int(false_pos4)\n",
        "matrix4[1, 0] = int(false_neg4)\n",
        "matrix4[1, 1] = int(true_pos4)\n",
        "\n",
        "print(matrix4)"
      ],
      "metadata": {
        "colab": {
          "base_uri": "https://localhost:8080/"
        },
        "id": "JhZDQDDcPX0q",
        "outputId": "49fa8e47-1be3-41da-b344-2e91b0485d0d"
      },
      "execution_count": 62,
      "outputs": [
        {
          "output_type": "stream",
          "name": "stdout",
          "text": [
            "[[1595.    0.]\n",
            " [  60.  402.]]\n"
          ]
        }
      ]
    },
    {
      "cell_type": "code",
      "source": [
        "# Pitting our values against sklearn values\n",
        "check_matrix4 = confusion_matrix(Y_test, predictions4)\n",
        "cm4 = pd.DataFrame(check_matrix4, index=['0', '1'], columns=['0', '1'])\n",
        "print(cm4)"
      ],
      "metadata": {
        "colab": {
          "base_uri": "https://localhost:8080/"
        },
        "id": "YX9zNVT6Pl87",
        "outputId": "14b0463e-d8f2-400c-9a1a-2a728dce8240"
      },
      "execution_count": 63,
      "outputs": [
        {
          "output_type": "stream",
          "name": "stdout",
          "text": [
            "      0    1\n",
            "0  1595    0\n",
            "1    60  402\n"
          ]
        }
      ]
    },
    {
      "cell_type": "code",
      "source": [
        "chk_acc4 = accuracy_score(Y_test, predictions4)\n",
        "chk_prc4 = precision_score(Y_test, predictions4)\n",
        "chk_rec4 = recall_score(Y_test, predictions4)\n",
        "chk_f4 = f1_score(Y_test, predictions4)\n",
        "\n",
        "print(\"Sklearn Accuracy: \", chk_acc4)\n",
        "print(\"Sklearn Precision: \", chk_prc4)\n",
        "print(\"Sklearn Recall: \", chk_rec4)\n",
        "print(\"Sklearn F-score: \", chk_f4)"
      ],
      "metadata": {
        "colab": {
          "base_uri": "https://localhost:8080/"
        },
        "id": "u2iHYwf2PubP",
        "outputId": "a9d1c354-0756-49c1-ddfb-b0526b516633"
      },
      "execution_count": 64,
      "outputs": [
        {
          "output_type": "stream",
          "name": "stdout",
          "text": [
            "Sklearn Accuracy:  0.9708313077297035\n",
            "Sklearn Precision:  1.0\n",
            "Sklearn Recall:  0.8701298701298701\n",
            "Sklearn F-score:  0.9305555555555556\n"
          ]
        }
      ]
    },
    {
      "cell_type": "code",
      "source": [
        "# Evaluating Testing score\n",
        "model4.score(X_test, Y_test)"
      ],
      "metadata": {
        "colab": {
          "base_uri": "https://localhost:8080/"
        },
        "id": "ZrxDnVtMP3W-",
        "outputId": "40e5c365-9aca-4a64-8c06-fdb0610f6d93"
      },
      "execution_count": 65,
      "outputs": [
        {
          "output_type": "execute_result",
          "data": {
            "text/plain": [
              "0.9708313077297035"
            ]
          },
          "metadata": {},
          "execution_count": 65
        }
      ]
    },
    {
      "cell_type": "code",
      "source": [
        "ax4 = sns.heatmap(check_matrix4, annot = True, cmap = 'Purples')\n",
        "ax4.set_title('Seaborn Confusion Matrix for MultinomialNB \\n\\n')\n",
        "ax4.set_xlabel('\\Actual Values')\n",
        "ax4.set_ylabel('Predicted Values')\n",
        "\n",
        "ax4.set_xticklabels(['0', '1'])\n",
        "ax4.set_yticklabels(['0', '1'])\n",
        "\n",
        "plt.show()"
      ],
      "metadata": {
        "colab": {
          "base_uri": "https://localhost:8080/",
          "height": 325
        },
        "id": "nf6_sEqiP76j",
        "outputId": "990decce-380c-4979-e772-5455bdfb5f73"
      },
      "execution_count": 67,
      "outputs": [
        {
          "output_type": "display_data",
          "data": {
            "text/plain": [
              "<Figure size 432x288 with 2 Axes>"
            ],
            "image/png": "[encoded data removed]"
          },
          "metadata": {
            "needs_background": "light"
          }
        }
      ]
    },
    {
      "cell_type": "code",
      "source": [
        "# Let us try to get some assumptions for each model and see\n",
        "tweet1 = 'I am sad'\n",
        "tweet2 = 'Today was the best day ever'\n",
        "tweet3 = 'Everything will be okay'\n",
        "tweet4 = 'Hello. I am amazing'\n",
        "tweet5 = 'Is it sad that I am all alone'\n",
        "tweet6 = 'That is sad but I am happy'"
      ],
      "metadata": {
        "id": "nZYBb9KSRLfU"
      },
      "execution_count": 74,
      "outputs": []
    },
    {
      "cell_type": "code",
      "source": [
        "# Model 1 predictions\n",
        "p1 = model1.predict(vector.transform([tweet1, tweet2, tweet3, tweet4, tweet5, tweet6]))\n",
        "\n",
        "print(p1)\n",
        "print()\n",
        "for index, i in enumerate(p1):\n",
        "  if i == 0:\n",
        "    print('Tweeter ' + str(index + 1) + ' is not depressed')\n",
        "  else:\n",
        "    print('Tweeter ' + str(index + 1) + ' is depressed')"
      ],
      "metadata": {
        "colab": {
          "base_uri": "https://localhost:8080/"
        },
        "id": "E8oxpwuKS3Pz",
        "outputId": "88cbdf35-4b61-41f9-eb81-f1eb25a5c94e"
      },
      "execution_count": 78,
      "outputs": [
        {
          "output_type": "stream",
          "name": "stdout",
          "text": [
            "[1 0 0 0 1 0]\n",
            "\n",
            "Tweeter 1 is depressed\n",
            "Tweeter 2 is not depressed\n",
            "Tweeter 3 is not depressed\n",
            "Tweeter 4 is not depressed\n",
            "Tweeter 5 is depressed\n",
            "Tweeter 6 is not depressed\n"
          ]
        }
      ]
    },
    {
      "cell_type": "code",
      "source": [
        "# Model 2 predictions\n",
        "p2 = model2.predict(vector.transform([tweet1, tweet2, tweet3, tweet4, tweet5, tweet6]).toarray())\n",
        "\n",
        "print(p2)\n",
        "print()\n",
        "for index, i in enumerate(p2):\n",
        "  if i == 0:\n",
        "    print('Tweeter ' + str(index + 1) + ' is not depressed')\n",
        "  else:\n",
        "    print('Tweeter ' + str(index + 1) + ' is depressed')"
      ],
      "metadata": {
        "colab": {
          "base_uri": "https://localhost:8080/"
        },
        "id": "02kAWwJbTIU2",
        "outputId": "881db3dd-d4a4-4488-d500-9b605ab8bb9f"
      },
      "execution_count": 80,
      "outputs": [
        {
          "output_type": "stream",
          "name": "stdout",
          "text": [
            "[1 1 1 1 1 1]\n",
            "\n",
            "Tweeter 1 is depressed\n",
            "Tweeter 2 is depressed\n",
            "Tweeter 3 is depressed\n",
            "Tweeter 4 is depressed\n",
            "Tweeter 5 is depressed\n",
            "Tweeter 6 is depressed\n"
          ]
        }
      ]
    },
    {
      "cell_type": "code",
      "source": [
        "# Model 3 predictions\n",
        "p3 = model3.predict(vector.transform([tweet1, tweet2, tweet3, tweet4, tweet5, tweet6]))\n",
        "\n",
        "print(p3)\n",
        "print()\n",
        "for index, i in enumerate(p3):\n",
        "  if i == 0:\n",
        "    print('Tweeter ' + str(index + 1) + ' is not depressed')\n",
        "  else:\n",
        "    print('Tweeter ' + str(index + 1) + ' is depressed')"
      ],
      "metadata": {
        "colab": {
          "base_uri": "https://localhost:8080/"
        },
        "id": "q3oJF0x-UiAF",
        "outputId": "66c2f36d-2fb8-4549-f96a-8c578873876a"
      },
      "execution_count": 81,
      "outputs": [
        {
          "output_type": "stream",
          "name": "stdout",
          "text": [
            "[1 0 0 0 1 1]\n",
            "\n",
            "Tweeter 1 is depressed\n",
            "Tweeter 2 is not depressed\n",
            "Tweeter 3 is not depressed\n",
            "Tweeter 4 is not depressed\n",
            "Tweeter 5 is depressed\n",
            "Tweeter 6 is depressed\n"
          ]
        }
      ]
    },
    {
      "cell_type": "code",
      "source": [
        "# Model 4 predictions\n",
        "p4 = model4.predict(vector.transform([tweet1, tweet2, tweet3, tweet4, tweet5, tweet6]))\n",
        "\n",
        "print(p4)\n",
        "print()\n",
        "for index, i in enumerate(p4):\n",
        "  if i == 0:\n",
        "    print('Tweeter ' + str(index + 1) + ' is not depressed')\n",
        "  else:\n",
        "    print('Tweeter ' + str(index + 1) + ' is depressed')"
      ],
      "metadata": {
        "colab": {
          "base_uri": "https://localhost:8080/"
        },
        "id": "ZkajXV2lVCNO",
        "outputId": "afa21f29-dbbd-48d1-f5f9-8ffd0fb717e9"
      },
      "execution_count": 82,
      "outputs": [
        {
          "output_type": "stream",
          "name": "stdout",
          "text": [
            "[0 0 0 0 0 0]\n",
            "\n",
            "Tweeter 1 is not depressed\n",
            "Tweeter 2 is not depressed\n",
            "Tweeter 3 is not depressed\n",
            "Tweeter 4 is not depressed\n",
            "Tweeter 5 is not depressed\n",
            "Tweeter 6 is not depressed\n"
          ]
        }
      ]
    },
    {
      "cell_type": "code",
      "source": [
        "# Saving our models:\n",
        "import joblib\n",
        "path = 'gdrive/MyDrive/Models/'\n",
        "name= 'MultinomialNB'\n",
        "model_path = path + name\n",
        "\n",
        "_a = joblib.dump(model1, model_path)"
      ],
      "metadata": {
        "id": "iaYaLyc0VLzY"
      },
      "execution_count": 85,
      "outputs": []
    },
    {
      "cell_type": "code",
      "source": [
        "name= 'GaussianNB'\n",
        "model_path2 = path + name\n",
        "\n",
        "_b = joblib.dump(model2, model_path2)"
      ],
      "metadata": {
        "id": "y2pBALjWXAHF"
      },
      "execution_count": 87,
      "outputs": []
    },
    {
      "cell_type": "code",
      "source": [
        "name= 'ComplementNB'\n",
        "model_path3 = path + name\n",
        "\n",
        "_c = joblib.dump(model3, model_path3)"
      ],
      "metadata": {
        "id": "CpZPyGLlXsR-"
      },
      "execution_count": 88,
      "outputs": []
    },
    {
      "cell_type": "code",
      "source": [
        "name= 'BernoulliNB'\n",
        "model_path4 = path + name\n",
        "\n",
        "_d = joblib.dump(model4, model_path4)"
      ],
      "metadata": {
        "id": "gUBavJplYEa5"
      },
      "execution_count": 89,
      "outputs": []
    },
    {
      "cell_type": "code",
      "source": [
        ""
      ],
      "metadata": {
        "id": "ixQoYDozYKbL"
      },
      "execution_count": null,
      "outputs": []
    }
  ]
}